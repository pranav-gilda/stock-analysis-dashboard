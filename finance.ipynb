{
 "cells": [
  {
   "cell_type": "code",
   "execution_count": 5,
   "id": "dc4fc139",
   "metadata": {},
   "outputs": [
    {
     "name": "stderr",
     "output_type": "stream",
     "text": [
      "[*********************100%***********************]  5 of 5 completed\n"
     ]
    }
   ],
   "source": [
    "import yfinance as yf\n",
    "import pandas as pd\n",
    "\n",
    "# Define tickers and company names\n",
    "ticker_to_company = {\n",
    "    \"TSLA\": \"Tesla\",\n",
    "    \"MSFT\": \"Microsoft\",\n",
    "    \"GOOGL\": \"Google\",\n",
    "    \"AAPL\": \"Apple\",\n",
    "    \"NVDA\": \"Nvidia\"\n",
    "}\n",
    "\n",
    "tickers = list(ticker_to_company.keys())\n",
    "\n",
    "# Define date range\n",
    "start_date = \"2024-01-01\"\n",
    "end_date = \"2024-06-30\"\n",
    "\n",
    "# Download all tickers at once\n",
    "data = yf.download(tickers, start=start_date, end=end_date)\n",
    "\n",
    "# The data has multi-level columns like ('Open', 'TSLA'), ('High', 'MSFT'), etc.\n",
    "\n",
    "# Now we flatten the data properly\n",
    "rows = []\n",
    "\n",
    "for ticker in tickers:\n",
    "    df = pd.DataFrame({\n",
    "        'Date': data.index,\n",
    "        'Open': data['Open'][ticker],\n",
    "        'High': data['High'][ticker],\n",
    "        'Low': data['Low'][ticker],\n",
    "        'Close': data['Close'][ticker],\n",
    "        'Volume': data['Volume'][ticker],\n",
    "    })\n",
    "    df['Ticker'] = ticker\n",
    "    df['Company'] = ticker_to_company[ticker]\n",
    "    rows.append(df)\n",
    "\n",
    "# Combine all companies into a single DataFrame\n",
    "ohlcv_df = pd.concat(rows)"
   ]
  },
  {
   "cell_type": "code",
   "execution_count": 6,
   "id": "da277f04",
   "metadata": {},
   "outputs": [
    {
     "name": "stdout",
     "output_type": "stream",
     "text": [
      "        Date Company Ticker        Open        High         Low       Close  \\\n",
      "0 2024-01-02   Tesla   TSLA  250.080002  251.250000  244.410004  248.419998   \n",
      "1 2024-01-03   Tesla   TSLA  244.979996  245.679993  236.320007  238.449997   \n",
      "2 2024-01-04   Tesla   TSLA  239.250000  242.699997  237.729996  237.929993   \n",
      "3 2024-01-05   Tesla   TSLA  236.860001  240.119995  234.899994  237.490005   \n",
      "4 2024-01-08   Tesla   TSLA  236.139999  241.250000  235.300003  240.449997   \n",
      "\n",
      "      Volume  \n",
      "0  104654200  \n",
      "1  121082600  \n",
      "2  102629300  \n",
      "3   92379400  \n",
      "4   85166600  \n"
     ]
    }
   ],
   "source": [
    "# Reorder columns\n",
    "ohlcv_df = ohlcv_df[['Date', 'Company', 'Ticker', 'Open', 'High', 'Low', 'Close', 'Volume']]\n",
    "\n",
    "# Reset index for clean DataFrame\n",
    "ohlcv_df = ohlcv_df.reset_index(drop=True)\n",
    "\n",
    "# Display the first few rows\n",
    "print(ohlcv_df.head())\n",
    "\n",
    "# Save it into a csv file:\n",
    "# ohlcv_df.to_csv('ohlcv_data_jan_june_2024.csv', index=False)\n"
   ]
  }
 ],
 "metadata": {
  "kernelspec": {
   "display_name": "Python 3",
   "language": "python",
   "name": "python3"
  },
  "language_info": {
   "codemirror_mode": {
    "name": "ipython",
    "version": 3
   },
   "file_extension": ".py",
   "mimetype": "text/x-python",
   "name": "python",
   "nbconvert_exporter": "python",
   "pygments_lexer": "ipython3",
   "version": "3.12.4"
  }
 },
 "nbformat": 4,
 "nbformat_minor": 5
}
